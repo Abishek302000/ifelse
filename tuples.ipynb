{
  "nbformat": 4,
  "nbformat_minor": 0,
  "metadata": {
    "colab": {
      "name": "tuples.ipynb",
      "provenance": [],
      "collapsed_sections": [],
      "authorship_tag": "ABX9TyMNJXOBumaz2bfsVWQHYHWq",
      "include_colab_link": true
    },
    "kernelspec": {
      "name": "python3",
      "display_name": "Python 3"
    },
    "language_info": {
      "name": "python"
    }
  },
  "cells": [
    {
      "cell_type": "markdown",
      "metadata": {
        "id": "view-in-github",
        "colab_type": "text"
      },
      "source": [
        "<a href=\"https://colab.research.google.com/github/Abishek302000/ifelse/blob/main/tuples.ipynb\" target=\"_parent\"><img src=\"https://colab.research.google.com/assets/colab-badge.svg\" alt=\"Open In Colab\"/></a>"
      ]
    },
    {
      "cell_type": "code",
      "metadata": {
        "id": "W7AI194vn2sM"
      },
      "source": [
        ""
      ],
      "execution_count": null,
      "outputs": []
    },
    {
      "cell_type": "code",
      "metadata": {
        "id": "424b5b94",
        "colab": {
          "base_uri": "https://localhost:8080/"
        },
        "outputId": "c8bddf45-f423-4d5d-eca9-5ff2d422b9b8"
      },
      "source": [
        "tup= ('cse','it','cse')\n",
        "print(tup)\n",
        "tup1=(1,23,4,5,5,6)\n",
        "print(tup1)\n",
        "tup2=\"abc\",\"def\"\n",
        "print(tup2)"
      ],
      "execution_count": 1,
      "outputs": [
        {
          "output_type": "stream",
          "name": "stdout",
          "text": [
            "('cse', 'it', 'cse')\n",
            "(1, 23, 4, 5, 5, 6)\n",
            "('abc', 'def')\n"
          ]
        }
      ]
    },
    {
      "cell_type": "code",
      "metadata": {
        "id": "debde1a5",
        "outputId": "5ea41b26-652f-4cef-8bab-af9d782b2e34"
      },
      "source": [
        "tup1 = ()\n",
        "print(tup1)"
      ],
      "execution_count": null,
      "outputs": [
        {
          "name": "stdout",
          "output_type": "stream",
          "text": [
            "()\n"
          ]
        }
      ]
    },
    {
      "cell_type": "code",
      "metadata": {
        "id": "74286d0d",
        "outputId": "518555b5-efc3-4174-ebf6-4495a48e619d"
      },
      "source": [
        "tup1 = (24)\n",
        "print(tup1)"
      ],
      "execution_count": null,
      "outputs": [
        {
          "name": "stdout",
          "output_type": "stream",
          "text": [
            "24\n"
          ]
        }
      ]
    },
    {
      "cell_type": "code",
      "metadata": {
        "id": "a79a5606",
        "outputId": "1fa5d629-9fa1-44fe-940e-c8128bd610d8"
      },
      "source": [
        "tup= ('cse','it','mech','ece','electrical')\n",
        "print(tup[0])\n",
        "print(tup[2])\n",
        "print(tup[2:5])"
      ],
      "execution_count": null,
      "outputs": [
        {
          "name": "stdout",
          "output_type": "stream",
          "text": [
            "cse\n",
            "mech\n",
            "('mech', 'ece', 'electrical')\n"
          ]
        }
      ]
    },
    {
      "cell_type": "code",
      "metadata": {
        "id": "21292bd1",
        "outputId": "ad81ac52-794e-48a5-b95f-eca12286085b"
      },
      "source": [
        "tup1= ('cse','it','mech','ece','electrical')\n",
        "print(tup1)\n",
        "\n",
        "del(tup1)\n",
        "print(tup1)"
      ],
      "execution_count": null,
      "outputs": [
        {
          "name": "stdout",
          "output_type": "stream",
          "text": [
            "('cse', 'it', 'mech', 'ece', 'electrical')\n"
          ]
        },
        {
          "ename": "NameError",
          "evalue": "name 'tup1' is not defined",
          "output_type": "error",
          "traceback": [
            "\u001b[1;31m---------------------------------------------------------------------------\u001b[0m",
            "\u001b[1;31mNameError\u001b[0m                                 Traceback (most recent call last)",
            "\u001b[1;32m<ipython-input-10-f0e3be02146e>\u001b[0m in \u001b[0;36m<module>\u001b[1;34m\u001b[0m\n\u001b[0;32m      3\u001b[0m \u001b[1;33m\u001b[0m\u001b[0m\n\u001b[0;32m      4\u001b[0m \u001b[1;32mdel\u001b[0m\u001b[1;33m(\u001b[0m\u001b[0mtup1\u001b[0m\u001b[1;33m)\u001b[0m\u001b[1;33m\u001b[0m\u001b[1;33m\u001b[0m\u001b[0m\n\u001b[1;32m----> 5\u001b[1;33m \u001b[0mprint\u001b[0m\u001b[1;33m(\u001b[0m\u001b[0mtup1\u001b[0m\u001b[1;33m)\u001b[0m\u001b[1;33m\u001b[0m\u001b[1;33m\u001b[0m\u001b[0m\n\u001b[0m",
            "\u001b[1;31mNameError\u001b[0m: name 'tup1' is not defined"
          ]
        }
      ]
    },
    {
      "cell_type": "code",
      "metadata": {
        "id": "10d1afee",
        "outputId": "64ecd574-47d0-4073-ea41-e9c3e3582beb"
      },
      "source": [
        "tup1= ('cse','it','mech','ece','electrical')\n",
        "print(tup1)\n",
        "tup2= ('shabnam','nishitha','roy')\n",
        "print(tup2)\n",
        "\n",
        "\n",
        "tup3=tup1+tup2\n",
        "print(tup3)"
      ],
      "execution_count": null,
      "outputs": [
        {
          "name": "stdout",
          "output_type": "stream",
          "text": [
            "('cse', 'it', 'mech', 'ece', 'electrical')\n",
            "('shabnam', 'nishitha', 'roy')\n",
            "('cse', 'it', 'mech', 'ece', 'electrical', 'shabnam', 'nishitha', 'roy')\n"
          ]
        }
      ]
    },
    {
      "cell_type": "code",
      "metadata": {
        "id": "bb18bcef",
        "outputId": "6dd3831b-78f7-4a17-95f3-83667ee01e74"
      },
      "source": [
        "tup1= ('cse','it','mech','ece','electrical')\n",
        "print(tup1)\n",
        "\n",
        "print(\"value at 3rd loc= \",tup1[3])\n",
        "\n",
        "tup1[3]=\"Shabnam\" #not allowed\n",
        "print(\"UPDATED value at 3rd loc= \",tup1[3])"
      ],
      "execution_count": null,
      "outputs": [
        {
          "name": "stdout",
          "output_type": "stream",
          "text": [
            "('cse', 'it', 'mech', 'ece', 'electrical')\n",
            "value at 3rd loc=  ece\n"
          ]
        },
        {
          "ename": "TypeError",
          "evalue": "'tuple' object does not support item assignment",
          "output_type": "error",
          "traceback": [
            "\u001b[1;31m---------------------------------------------------------------------------\u001b[0m",
            "\u001b[1;31mTypeError\u001b[0m                                 Traceback (most recent call last)",
            "\u001b[1;32m<ipython-input-15-449e2af414d0>\u001b[0m in \u001b[0;36m<module>\u001b[1;34m\u001b[0m\n\u001b[0;32m      4\u001b[0m \u001b[0mprint\u001b[0m\u001b[1;33m(\u001b[0m\u001b[1;34m\"value at 3rd loc= \"\u001b[0m\u001b[1;33m,\u001b[0m\u001b[0mtup1\u001b[0m\u001b[1;33m[\u001b[0m\u001b[1;36m3\u001b[0m\u001b[1;33m]\u001b[0m\u001b[1;33m)\u001b[0m\u001b[1;33m\u001b[0m\u001b[1;33m\u001b[0m\u001b[0m\n\u001b[0;32m      5\u001b[0m \u001b[1;33m\u001b[0m\u001b[0m\n\u001b[1;32m----> 6\u001b[1;33m \u001b[0mtup1\u001b[0m\u001b[1;33m[\u001b[0m\u001b[1;36m3\u001b[0m\u001b[1;33m]\u001b[0m\u001b[1;33m=\u001b[0m\u001b[1;34m\"Shabnam\"\u001b[0m\u001b[1;33m\u001b[0m\u001b[1;33m\u001b[0m\u001b[0m\n\u001b[0m\u001b[0;32m      7\u001b[0m \u001b[0mprint\u001b[0m\u001b[1;33m(\u001b[0m\u001b[1;34m\"UPDATED value at 3rd loc= \"\u001b[0m\u001b[1;33m,\u001b[0m\u001b[0mtup1\u001b[0m\u001b[1;33m[\u001b[0m\u001b[1;36m3\u001b[0m\u001b[1;33m]\u001b[0m\u001b[1;33m)\u001b[0m\u001b[1;33m\u001b[0m\u001b[1;33m\u001b[0m\u001b[0m\n",
            "\u001b[1;31mTypeError\u001b[0m: 'tuple' object does not support item assignment"
          ]
        }
      ]
    },
    {
      "cell_type": "code",
      "metadata": {
        "id": "90cb299f",
        "outputId": "4f0f2db5-16d0-4640-99db-2edd906d6d11"
      },
      "source": [
        "tup1= ('cse','it','mech','ece','electrical')\n",
        "print(tup1)\n",
        "tup2= ('shabnam','nishitha','roy')\n",
        "print(tup2)\n",
        "a=len(tup1)\n",
        "b=len(tup2)\n",
        "print(a)\n",
        "print(b)\n",
        "\n",
        "print(len(tup1))\n"
      ],
      "execution_count": null,
      "outputs": [
        {
          "name": "stdout",
          "output_type": "stream",
          "text": [
            "('cse', 'it', 'mech', 'ece', 'electrical')\n",
            "('shabnam', 'nishitha', 'roy')\n",
            "5\n",
            "3\n",
            "5\n"
          ]
        }
      ]
    },
    {
      "cell_type": "code",
      "metadata": {
        "id": "fd3c1496",
        "colab": {
          "base_uri": "https://localhost:8080/"
        },
        "outputId": "e29eee73-aa09-4aa8-d2fe-8fc502f69f38"
      },
      "source": [
        "tup1= ('cse','it','mech','ece','electrical')\n",
        "print(tup1)\n",
        "tup2= ('abishek','brinda','ananya')\n",
        "print(tup2)\n",
        "\n",
        "\n",
        "print(max(tup1))"
      ],
      "execution_count": 2,
      "outputs": [
        {
          "output_type": "stream",
          "name": "stdout",
          "text": [
            "('cse', 'it', 'mech', 'ece', 'electrical')\n",
            "('abishek', 'brinda', 'ananya')\n",
            "mech\n"
          ]
        }
      ]
    }
  ]
}