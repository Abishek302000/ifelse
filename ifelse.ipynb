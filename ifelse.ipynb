{
  "nbformat": 4,
  "nbformat_minor": 0,
  "metadata": {
    "colab": {
      "name": " ifelse.ipynb",
      "provenance": [],
      "collapsed_sections": [],
      "authorship_tag": "ABX9TyNewPQWGIzQMkPRwdL6Ab9P",
      "include_colab_link": true
    },
    "kernelspec": {
      "name": "python3",
      "display_name": "Python 3"
    },
    "language_info": {
      "name": "python"
    }
  },
  "cells": [
    {
      "cell_type": "markdown",
      "metadata": {
        "id": "view-in-github",
        "colab_type": "text"
      },
      "source": [
        "<a href=\"https://colab.research.google.com/github/Abishek302000/ifelse/blob/main/ifelse.ipynb\" target=\"_parent\"><img src=\"https://colab.research.google.com/assets/colab-badge.svg\" alt=\"Open In Colab\"/></a>"
      ]
    },
    {
      "cell_type": "code",
      "metadata": {
        "id": "67a198ab",
        "colab": {
          "base_uri": "https://localhost:8080/"
        },
        "outputId": "d4e0a0fb-c1c9-48a0-853a-94de3810443b"
      },
      "source": [
        "    num = int(input(\"enter the number?\"))  \n",
        "    if num%2 == 0:  \n",
        "        print(\"Number is even\")\n",
        "    print(\"bye\")\n",
        "        "
      ],
      "execution_count": null,
      "outputs": [
        {
          "output_type": "stream",
          "name": "stdout",
          "text": [
            "enter the number?123\n",
            "bye\n"
          ]
        }
      ]
    },
    {
      "cell_type": "code",
      "metadata": {
        "id": "e81e7abc",
        "colab": {
          "base_uri": "https://localhost:8080/"
        },
        "outputId": "288b439a-07f1-4b86-d5ea-05ff3792d2c6"
      },
      "source": [
        "    a = int(input(\"Enter a- \"));  \n",
        "    b = int(input(\"Enter b- \"));  \n",
        "    c = int(input(\"Enter c- \"));  \n",
        "    if a>b and a>c:  \n",
        "        print(\"a is largest\");  \n",
        "    if b>a and b>c:  \n",
        "        print(\"b is largest\");  \n",
        "    if c>a and c>b:  \n",
        "        print(\"c is largest\");  "
      ],
      "execution_count": null,
      "outputs": [
        {
          "output_type": "stream",
          "name": "stdout",
          "text": [
            "Enter a- 20\n",
            "Enter b- 30\n",
            "Enter c- 40\n",
            "c is largest\n"
          ]
        }
      ]
    },
    {
      "cell_type": "code",
      "metadata": {
        "id": "1c9aa697",
        "colab": {
          "base_uri": "https://localhost:8080/"
        },
        "outputId": "72f44a0e-a34f-497c-98a2-f2dc838b6a62"
      },
      "source": [
        "    age = int (input(\"Enter your age? \"))  \n",
        "    if age>=18:  \n",
        "        print(\"You are eligible to vote !!\");  \n",
        "    else:  \n",
        "        print(\"Sorry! you have to wait !!\");  "
      ],
      "execution_count": null,
      "outputs": [
        {
          "output_type": "stream",
          "name": "stdout",
          "text": [
            "Enter your age? 21\n",
            "You are eligible to vote !!\n"
          ]
        }
      ]
    },
    {
      "cell_type": "code",
      "metadata": {
        "id": "0a328395",
        "colab": {
          "base_uri": "https://localhost:8080/"
        },
        "outputId": "c7426545-8791-4ab4-9e9e-8ae0e9480001"
      },
      "source": [
        "    num = int(input(\"enter the number?\"))  \n",
        "    if num%2 == 0:  \n",
        "        print(\"Number is even...\")  \n",
        "    else:  \n",
        "        print(\"Number is odd...\")  "
      ],
      "execution_count": null,
      "outputs": [
        {
          "output_type": "stream",
          "name": "stdout",
          "text": [
            "enter the number?20\n",
            "Number is even...\n"
          ]
        }
      ]
    },
    {
      "cell_type": "code",
      "metadata": {
        "id": "11628e55",
        "colab": {
          "base_uri": "https://localhost:8080/"
        },
        "outputId": "37c6ed6b-3004-4ad4-e3ad-1cef36d5fde6"
      },
      "source": [
        "    number = int(input(\"Enter the number?\"))  \n",
        "    if number==10:  \n",
        "        print(\"number is equals to 10\")  \n",
        "    elif number==50:  \n",
        "        print(\"number is equal to 50\");  \n",
        "    elif number==100:  \n",
        "        print(\"number is equal to 100\");  \n",
        "    else:  \n",
        "        print(\"number is not equal to 10, 50 or 100\");  "
      ],
      "execution_count": null,
      "outputs": [
        {
          "output_type": "stream",
          "name": "stdout",
          "text": [
            "Enter the number?2364\n",
            "number is not equal to 10, 50 or 100\n"
          ]
        }
      ]
    },
    {
      "cell_type": "code",
      "metadata": {
        "id": "6b02cacc",
        "colab": {
          "base_uri": "https://localhost:8080/"
        },
        "outputId": "333a9519-08f7-4613-a7c7-28782229f42a"
      },
      "source": [
        "number = input(\"Enter the number?\")\n",
        "if number==10:  \n",
        "    print(\"number is equals to 10\")  \n",
        "elif number==50:  \n",
        "    print(\"number is equal to 50\");  \n",
        "elif number==100:  \n",
        "    print(\"number is equal to 100\");  \n",
        "else:  \n",
        "    print(\"number is not equal to 10, 50 or 100\");  "
      ],
      "execution_count": null,
      "outputs": [
        {
          "output_type": "stream",
          "name": "stdout",
          "text": [
            "Enter the number?20\n",
            "number is not equal to 10, 50 or 100\n"
          ]
        }
      ]
    },
    {
      "cell_type": "code",
      "metadata": {
        "id": "b6a59f62",
        "colab": {
          "base_uri": "https://localhost:8080/"
        },
        "outputId": "d510e5b6-f2d6-43b0-aea5-5db97a6b443b"
      },
      "source": [
        "    marks = int(input(\"Enter the marks? \"))  \n",
        "    if marks > 85 and marks <= 100:  \n",
        "       print(\"Congrats ! you scored grade A ...\")  \n",
        "    elif marks > 60 and marks <= 85:  \n",
        "       print(\"You scored grade B + ...\")  \n",
        "    elif marks > 40 and marks <= 60:  \n",
        "       print(\"You scored grade B ...\")  \n",
        "    elif (marks > 30 and marks <= 40):  \n",
        "       print(\"You scored grade C ...\")  \n",
        "    else:  \n",
        "       print(\"Sorry you are fail ?\")  "
      ],
      "execution_count": null,
      "outputs": [
        {
          "output_type": "stream",
          "name": "stdout",
          "text": [
            "Enter the marks? 84\n",
            "You scored grade B + ...\n"
          ]
        }
      ]
    }
  ]
}