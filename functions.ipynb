{
  "nbformat": 4,
  "nbformat_minor": 0,
  "metadata": {
    "colab": {
      "name": "functions.ipynb",
      "provenance": [],
      "collapsed_sections": [],
      "authorship_tag": "ABX9TyP0NhgDUDAhA+gJkxLYr/YC",
      "include_colab_link": true
    },
    "kernelspec": {
      "name": "python3",
      "display_name": "Python 3"
    },
    "language_info": {
      "name": "python"
    }
  },
  "cells": [
    {
      "cell_type": "markdown",
      "metadata": {
        "id": "view-in-github",
        "colab_type": "text"
      },
      "source": [
        "<a href=\"https://colab.research.google.com/github/Abishek302000/ifelse/blob/main/functions.ipynb\" target=\"_parent\"><img src=\"https://colab.research.google.com/assets/colab-badge.svg\" alt=\"Open In Colab\"/></a>"
      ]
    },
    {
      "cell_type": "code",
      "metadata": {
        "id": "610c6d6a",
        "colab": {
          "base_uri": "https://localhost:8080/"
        },
        "outputId": "2bfe9c4c-1ac4-4e87-ca39-dd1b14dc5094"
      },
      "source": [
        "\n",
        "def hello (str):\n",
        "     print(\"in function   \" + str)\n",
        "     print(\"after printing in function definition\")\n",
        "     return;\n",
        "    \n",
        "    \n",
        "print(\"1\")\n",
        "print(\"2\")\n",
        "hello(\"Abishek\")\n",
        "hello(\"Abi\")\n",
        "print(\"3\")\n",
        "    \n",
        "\n"
      ],
      "execution_count": 1,
      "outputs": [
        {
          "output_type": "stream",
          "name": "stdout",
          "text": [
            "1\n",
            "2\n",
            "in function   Abishek\n",
            "after printing in function definition\n",
            "in function   Abi\n",
            "after printing in function definition\n",
            "3\n"
          ]
        }
      ]
    },
    {
      "cell_type": "code",
      "metadata": {
        "id": "fb2145fc",
        "colab": {
          "base_uri": "https://localhost:8080/"
        },
        "outputId": "aefa6366-e62f-429a-809d-586f587df284"
      },
      "source": [
        "def changeme( mylist ):\n",
        "   mylist.append([1,2,3,4]);\n",
        "   print (\"Values inside the function: \", mylist)\n",
        "   return;\n",
        "\n",
        "mylist = [10,20,30];\n",
        "changeme( mylist );\n",
        "print (\"Values outside the function: \", mylist)\n"
      ],
      "execution_count": 2,
      "outputs": [
        {
          "output_type": "stream",
          "name": "stdout",
          "text": [
            "Values inside the function:  [10, 20, 30, [1, 2, 3, 4]]\n",
            "Values outside the function:  [10, 20, 30, [1, 2, 3, 4]]\n"
          ]
        }
      ]
    },
    {
      "cell_type": "code",
      "metadata": {
        "id": "78748955",
        "outputId": "ba6b783a-feda-4148-97ac-86611e7b6792"
      },
      "source": [
        "def changeme( mylist ):\n",
        "    print (\"BEFORE CHANGESValues inside the function: \", mylist)\n",
        "    mylist = [1,2,3,4]; \n",
        "    print (\"AFTER CHANGES Values inside the function: \", mylist)\n",
        "    return\n",
        "\n",
        "\n",
        "mylist1 = [10,20,30];\n",
        "changeme( mylist1 );\n",
        "print (\"Values outside the function: \", mylist1)"
      ],
      "execution_count": null,
      "outputs": [
        {
          "name": "stdout",
          "output_type": "stream",
          "text": [
            "BEFORE CHANGESValues inside the function:  [10, 20, 30]\n",
            "AFTER CHANGES Values inside the function:  [1, 2, 3, 4]\n",
            "Values outside the function:  [10, 20, 30]\n"
          ]
        }
      ]
    },
    {
      "cell_type": "code",
      "metadata": {
        "id": "4ce4e4e3",
        "outputId": "7f698c6d-3f95-49cb-907a-313a86c6f92d"
      },
      "source": [
        "def printme( str ):\n",
        "     print (str)\n",
        "     return;\n",
        "\n",
        "\n",
        "printme()"
      ],
      "execution_count": null,
      "outputs": [
        {
          "ename": "TypeError",
          "evalue": "printme() missing 1 required positional argument: 'str'",
          "output_type": "error",
          "traceback": [
            "\u001b[1;31m---------------------------------------------------------------------------\u001b[0m",
            "\u001b[1;31mTypeError\u001b[0m                                 Traceback (most recent call last)",
            "\u001b[1;32m<ipython-input-56-4e1f21ca7b12>\u001b[0m in \u001b[0;36m<module>\u001b[1;34m\u001b[0m\n\u001b[0;32m      4\u001b[0m \u001b[1;33m\u001b[0m\u001b[0m\n\u001b[0;32m      5\u001b[0m \u001b[1;33m\u001b[0m\u001b[0m\n\u001b[1;32m----> 6\u001b[1;33m \u001b[0mprintme\u001b[0m\u001b[1;33m(\u001b[0m\u001b[1;33m)\u001b[0m\u001b[1;33m\u001b[0m\u001b[1;33m\u001b[0m\u001b[0m\n\u001b[0m",
            "\u001b[1;31mTypeError\u001b[0m: printme() missing 1 required positional argument: 'str'"
          ]
        }
      ]
    },
    {
      "cell_type": "code",
      "metadata": {
        "scrolled": true,
        "id": "3fd7b07c",
        "outputId": "e4dacb83-5ffd-4b36-aef6-3dd717a4dd8d"
      },
      "source": [
        "def printme( str ):\n",
        "     print (str)\n",
        "     return;\n",
        "\n",
        "\n",
        "printme( str = \"My string\")"
      ],
      "execution_count": null,
      "outputs": [
        {
          "name": "stdout",
          "output_type": "stream",
          "text": [
            "My string\n"
          ]
        }
      ]
    },
    {
      "cell_type": "code",
      "metadata": {
        "id": "4f1aa13a",
        "colab": {
          "base_uri": "https://localhost:8080/"
        },
        "outputId": "e5e0063d-6e58-4390-b2e3-bf1a498b52ef"
      },
      "source": [
        "def printinfo( name, age ):\n",
        "    print (\"Name: \", name)\n",
        "    print (\"Age \", age)\n",
        "    return;\n",
        "\n",
        "\n",
        "printinfo( age=21, name=\"Domuz\" )"
      ],
      "execution_count": 3,
      "outputs": [
        {
          "output_type": "stream",
          "name": "stdout",
          "text": [
            "Name:  Domuz\n",
            "Age  21\n"
          ]
        }
      ]
    },
    {
      "cell_type": "code",
      "metadata": {
        "id": "31440757",
        "colab": {
          "base_uri": "https://localhost:8080/"
        },
        "outputId": "7d8304d5-1061-455c-f427-308ec34cf049"
      },
      "source": [
        "def printinfo( name, age ):\n",
        "    print (\"Name: \", name)\n",
        "    print (\"Age \", age)\n",
        "    return;\n",
        "\n",
        "printinfo( \"domuz\",21 )"
      ],
      "execution_count": 4,
      "outputs": [
        {
          "output_type": "stream",
          "name": "stdout",
          "text": [
            "Name:  domuz\n",
            "Age  21\n"
          ]
        }
      ]
    },
    {
      "cell_type": "code",
      "metadata": {
        "id": "686dee84",
        "outputId": "0092c8ca-f1a9-4d14-9882-763f1c912ad3"
      },
      "source": [
        "def printinfo( name, age ):\n",
        "    print (\"Name: \", name)\n",
        "    print (\"Age \", age)\n",
        "    return;\n",
        "\n",
        "printinfo( 50, \"miki\" )"
      ],
      "execution_count": null,
      "outputs": [
        {
          "name": "stdout",
          "output_type": "stream",
          "text": [
            "Name:  50\n",
            "Age  miki\n"
          ]
        }
      ]
    },
    {
      "cell_type": "code",
      "metadata": {
        "id": "2e9d9fe4",
        "outputId": "b0a34999-c812-4b67-bd8f-54c7d8ec39f3"
      },
      "source": [
        "def printinfo( name, age = 35 ):\n",
        "    print (\"Name: \", name)\n",
        "    print (\"Age \", age)\n",
        "    return;\n",
        "\n",
        "\n",
        "printinfo( age=50, name=\"miki\" )\n",
        "printinfo( name=\"miki\" )"
      ],
      "execution_count": null,
      "outputs": [
        {
          "name": "stdout",
          "output_type": "stream",
          "text": [
            "Name:  miki\n",
            "Age  50\n",
            "Name:  miki\n",
            "Age  35\n"
          ]
        }
      ]
    },
    {
      "cell_type": "code",
      "metadata": {
        "id": "1897fba0",
        "outputId": "27888845-24e1-416c-e2fe-ae92020f9c0d"
      },
      "source": [
        "def printinfo( arg1, *vartuple ):\n",
        "     print (\"Output is: \")\n",
        "     print (\"arg1==\",arg1)\n",
        "     for var in vartuple:\n",
        "        print (var)\n",
        "     return;\n",
        "\n",
        "printinfo( 10,78 )\n",
        "printinfo( 70, 60, 50,90 )"
      ],
      "execution_count": null,
      "outputs": [
        {
          "name": "stdout",
          "output_type": "stream",
          "text": [
            "Output is: \n",
            "arg1== 10\n",
            "78\n",
            "Output is: \n",
            "arg1== 70\n",
            "60\n",
            "50\n",
            "90\n"
          ]
        }
      ]
    },
    {
      "cell_type": "code",
      "metadata": {
        "id": "55739efd",
        "outputId": "a6fbcc4e-da53-4e2a-87d9-9fa171fe25f8"
      },
      "source": [
        "sum = lambda arg1, arg2: arg1 + arg2;\n",
        "\n",
        "print (\"Value of total : \", sum( 10, 20 ))\n",
        "print (\"Value of total : \", sum( 20, 20 ))"
      ],
      "execution_count": null,
      "outputs": [
        {
          "name": "stdout",
          "output_type": "stream",
          "text": [
            "Value of total :  30\n",
            "Value of total :  40\n"
          ]
        }
      ]
    },
    {
      "cell_type": "code",
      "metadata": {
        "id": "b5e22453",
        "outputId": "ed7e6d6c-154f-44ec-936e-2fc8047fc7c1"
      },
      "source": [
        "def sum( arg1, arg2 ):\n",
        "    total = arg1 + arg2\n",
        "    print (\"Inside the function : \", total)\n",
        "    return total;\n",
        "\n",
        "\n",
        "total1 = sum( 10, 20 );\n",
        "print (\"Outside the function : \", total1 )"
      ],
      "execution_count": null,
      "outputs": [
        {
          "name": "stdout",
          "output_type": "stream",
          "text": [
            "Inside the function :  30\n",
            "Outside the function :  30\n"
          ]
        }
      ]
    },
    {
      "cell_type": "code",
      "metadata": {
        "id": "97396c41",
        "outputId": "c181e2d7-f87e-4d55-f6d7-bc99319131cf"
      },
      "source": [
        "total = 99; \n",
        "\n",
        "def sum( arg1, arg2 ):\n",
        "    total = arg1 + arg2; \n",
        "    print (\"Inside the function local total : \", total)\n",
        "    return total;\n",
        "\n",
        "\n",
        "sum( 10, 20 );\n",
        "print (\"Outside the function global total : \", total )"
      ],
      "execution_count": null,
      "outputs": [
        {
          "name": "stdout",
          "output_type": "stream",
          "text": [
            "Inside the function local total :  30\n",
            "Outside the function global total :  99\n"
          ]
        }
      ]
    }
  ]
}